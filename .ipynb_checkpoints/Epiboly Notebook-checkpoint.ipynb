{
 "cells": [
  {
   "cell_type": "markdown",
   "id": "c0ed1efd",
   "metadata": {},
   "source": [
    "See docstring in module main."
   ]
  },
  {
   "cell_type": "code",
   "execution_count": 1,
   "id": "590194a3",
   "metadata": {
    "scrolled": false
   },
   "outputs": [
    {
     "name": "stdout",
     "output_type": "stream",
     "text": [
      "Generating leading edge particles.\n",
      "Bonding ring particles.\n",
      "Calculating particle positions.\n",
      "Creating 689 particles.\n",
      "generating unit sphere coordinates takes: 0.0024929046630859375 seconds\n",
      "filtering takes: 0.013791084289550781 seconds\n",
      "scaling (and converting to list) takes: 0.008519887924194336 seconds\n",
      "filtering/scaling/converting all together take: 0.022310972213745117 seconds\n",
      "instantiating takes: 0.008517026901245117 seconds\n"
     ]
    },
    {
     "data": {
      "application/vnd.jupyter.widget-view+json": {
       "model_id": "f9ffde10408648ae9cc71b173df5fc4b",
       "version_major": 2,
       "version_minor": 0
      },
      "text/plain": [
       "VBox(children=(Image(value=b'\\xff\\xd8\\xff\\xe0\\x00\\x10JFIF\\x00\\x01\\x01\\x00\\x00\\x01\\x00\\x01\\x00\\x00\\xff\\xdb\\x00\\…"
      ]
     },
     "metadata": {},
     "output_type": "display_data"
    },
    {
     "name": "stdout",
     "output_type": "stream",
     "text": [
      "\n",
      "---Calling set_tangent_forces()\n",
      "Tangent forces enabled\n",
      "\n",
      "---Calling set_tangent_forces()\n",
      "Tangent forces enabled\n"
     ]
    }
   ],
   "source": [
    "from main import *\n"
   ]
  },
  {
   "cell_type": "code",
   "execution_count": 2,
   "id": "ff6ac729",
   "metadata": {},
   "outputs": [
    {
     "name": "stdout",
     "output_type": "stream",
     "text": [
      "Num Little particles = 689\n",
      "Num LeadingEdge particles = 55\n"
     ]
    }
   ],
   "source": [
    "# particles created of each type\n",
    "print(\"Num Little particles =\", len(Little.items()))\n",
    "print(\"Num LeadingEdge particles =\", len(LeadingEdge.items()))\n"
   ]
  },
  {
   "cell_type": "code",
   "execution_count": 3,
   "id": "f353af96",
   "metadata": {},
   "outputs": [
    {
     "name": "stdout",
     "output_type": "stream",
     "text": [
      "{0: 689, 2: 55}\n"
     ]
    }
   ],
   "source": [
    "count_bonds()"
   ]
  },
  {
   "cell_type": "code",
   "execution_count": 5,
   "id": "bbc5fe45",
   "metadata": {},
   "outputs": [],
   "source": [
    "reset_camera()"
   ]
  },
  {
   "cell_type": "code",
   "execution_count": 6,
   "id": "ce9690d5",
   "metadata": {},
   "outputs": [],
   "source": [
    "# plots()"
   ]
  },
  {
   "cell_type": "code",
   "execution_count": 7,
   "id": "3ccf5955",
   "metadata": {},
   "outputs": [
    {
     "name": "stdout",
     "output_type": "stream",
     "text": [
      "First invoke, outside Jupyter call twice\n"
     ]
    }
   ],
   "source": [
    "toggle_visibility()"
   ]
  },
  {
   "cell_type": "code",
   "execution_count": 8,
   "id": "c17f36eb",
   "metadata": {},
   "outputs": [
    {
     "name": "stdout",
     "output_type": "stream",
     "text": [
      "First invoke, outside Jupyter call twice\n"
     ]
    }
   ],
   "source": [
    "# Careful! Best to run this only while paused, and then toggle it back again before\n",
    "# unpausing, or might affect the simulation\n",
    "toggle_radius()"
   ]
  },
  {
   "cell_type": "code",
   "execution_count": 14,
   "id": "d71f38d6",
   "metadata": {
    "scrolled": true
   },
   "outputs": [
    {
     "name": "stdout",
     "output_type": "stream",
     "text": [
      "Tangent forces enabled\n"
     ]
    }
   ],
   "source": [
    "dyn.set_tangent_forces()"
   ]
  },
  {
   "cell_type": "code",
   "execution_count": 10,
   "id": "6bbc972b",
   "metadata": {},
   "outputs": [
    {
     "name": "stdout",
     "output_type": "stream",
     "text": [
      "Tangent forces disabled\n"
     ]
    }
   ],
   "source": [
    "dyn.unset_tangent_forces()"
   ]
  },
  {
   "cell_type": "code",
   "execution_count": 11,
   "id": "fcc2c936",
   "metadata": {
    "scrolled": false
   },
   "outputs": [],
   "source": [
    "# dyn.set_bond_maintenance({Little: True, LeadingEdge: True})"
   ]
  },
  {
   "cell_type": "code",
   "execution_count": 12,
   "id": "022f6b60",
   "metadata": {
    "scrolled": false
   },
   "outputs": [],
   "source": [
    "# dyn.unset_bond_maintenance()"
   ]
  },
  {
   "cell_type": "code",
   "execution_count": 13,
   "id": "e099c4da",
   "metadata": {},
   "outputs": [
    {
     "name": "stdout",
     "output_type": "stream",
     "text": [
      "\n",
      "---Calling random_initialization()\n",
      "Equilibrated.\n",
      "Equilibrated.\n"
     ]
    }
   ],
   "source": [
    "# tf.step()\n",
    "# while not is_equilibrated_0_05():\n",
    "#     # print(\"stepping!\")\n",
    "#     tf.step()\n"
   ]
  }
 ],
 "metadata": {
  "kernelspec": {
   "display_name": "Python 3 (ipykernel)",
   "language": "python",
   "name": "python3"
  },
  "language_info": {
   "codemirror_mode": {
    "name": "ipython",
    "version": 3
   },
   "file_extension": ".py",
   "mimetype": "text/x-python",
   "name": "python",
   "nbconvert_exporter": "python",
   "pygments_lexer": "ipython3",
   "version": "3.9.13"
  }
 },
 "nbformat": 4,
 "nbformat_minor": 5
}
