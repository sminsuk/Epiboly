{
 "cells": [
  {
   "cell_type": "markdown",
   "id": "9f73dcbc",
   "metadata": {},
   "source": [
    "For those receiving this file via git repo, as part of PyCharm project:\n",
    "\n",
    "You can ignore PyCharm and simply run the Notebook from Jupyter, which will pull in the other files. But if you will be running it in Jupyter and ***also*** opening the project in PyCharm, use the following procedure:\n",
    "\n",
    "You will receive this file, \"Epiboly Notebook.template.ipynb\". Don't run it. Every time you run it, the file changes, causing git to list it as a changed file in need of check-in. Instead, make a copy of this file (in the same directory), and rename it to \"Epiboly Notebook.ipynb\" (without the \".template\" or any \"-Copy\" added to the name by Jupyter's copy command). \"Epiboly Notebook.ipynb\" is .gitignore-ed, so you can run ***that*** file without being bothered by any changes being tracked."
   ]
  },
  {
   "cell_type": "code",
   "execution_count": null,
   "id": "590194a3",
   "metadata": {},
   "outputs": [],
   "source": [
    "from main import *\n"
   ]
  },
  {
   "cell_type": "code",
   "execution_count": null,
   "id": "37a2af37-3307-460b-a658-3f587f027279",
   "metadata": {},
   "outputs": [],
   "source": [
    "import epiboly_globals as g\n",
    "from utils import epiboly_utils as epu"
   ]
  },
  {
   "cell_type": "code",
   "execution_count": null,
   "id": "f513b5cc-f89a-47f9-b090-a45da78a95d7",
   "metadata": {},
   "outputs": [],
   "source": [
    "# particles created of each type\n",
    "print(\"Num Evl particles =\", len(g.Evl.items()))\n",
    "print(\"Num LeadingEdge particles =\", len(g.LeadingEdge.items()))"
   ]
  },
  {
   "cell_type": "code",
   "execution_count": null,
   "id": "f353af96",
   "metadata": {},
   "outputs": [],
   "source": [
    "count_bonds()"
   ]
  },
  {
   "cell_type": "code",
   "execution_count": null,
   "id": "bbc5fe45",
   "metadata": {},
   "outputs": [],
   "source": [
    "epu.reset_camera()"
   ]
  },
  {
   "cell_type": "code",
   "execution_count": null,
   "id": "ce9690d5",
   "metadata": {},
   "outputs": [],
   "source": [
    "# plots()"
   ]
  },
  {
   "cell_type": "code",
   "execution_count": null,
   "id": "3ccf5955",
   "metadata": {},
   "outputs": [],
   "source": [
    "toggle_visibility()"
   ]
  },
  {
   "cell_type": "code",
   "execution_count": null,
   "id": "c17f36eb",
   "metadata": {},
   "outputs": [],
   "source": [
    "# Careful! Best to run this only while paused, and then toggle it back again before\n",
    "# unpausing, or might affect the simulation\n",
    "toggle_radius()"
   ]
  },
  {
   "cell_type": "code",
   "execution_count": null,
   "id": "d71f38d6",
   "metadata": {
    "scrolled": true
   },
   "outputs": [],
   "source": [
    "# To change the task list, uncomment and run. Tasks shown are examples.\n",
    "# This replaces the existing task list entirely,\n",
    "# rather than just adding to it. So an empty list disables all tasks. A subset of the current list\n",
    "# disables some tasks and leaves others in place. A superset adds tasks to the existing ones.\n",
    "# Tasks are executed each timestep, in the order given in the list.\n",
    "\n",
    "# dyn.execute_repeatedly(tasks=[\n",
    "#         {\"invoke\": mt.update_tangent_forces,\n",
    "#          \"args\": {\"magnitude\": 5}\n",
    "#          },\n",
    "#         {\"invoke\": bonds.maintain_bonds,\n",
    "#          \"args\": {\"ptypes\": [g.Evl,\n",
    "#                              g.LeadingEdge,\n",
    "#                              ]\n",
    "#                   }\n",
    "#          },\n",
    "#         ])\n"
   ]
  },
  {
   "cell_type": "code",
   "execution_count": null,
   "id": "e099c4da",
   "metadata": {},
   "outputs": [],
   "source": [
    "# tf.step()\n",
    "# while not is_equilibrated_0_05():\n",
    "#     # print(\"stepping!\")\n",
    "#     tf.step()\n"
   ]
  }
 ],
 "metadata": {
  "kernelspec": {
   "display_name": "Python 3 (ipykernel)",
   "language": "python",
   "name": "python3"
  },
  "language_info": {
   "codemirror_mode": {
    "name": "ipython",
    "version": 3
   },
   "file_extension": ".py",
   "mimetype": "text/x-python",
   "name": "python",
   "nbconvert_exporter": "python",
   "pygments_lexer": "ipython3",
   "version": "3.10.12"
  }
 },
 "nbformat": 4,
 "nbformat_minor": 5
}
