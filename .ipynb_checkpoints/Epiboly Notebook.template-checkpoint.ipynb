{
 "cells": [
  {
   "cell_type": "markdown",
   "id": "c0ed1efd",
   "metadata": {},
   "source": [
    "For those receiving this file via git repo, as part of PyCharm project:\n",
    "\n",
    "You can ignore PyCharm and simply run the script"
   ]
  },
  {
   "cell_type": "code",
   "execution_count": 1,
   "id": "590194a3",
   "metadata": {
    "scrolled": false
   },
   "outputs": [
    {
     "name": "stdout",
     "output_type": "stream",
     "text": [
      "Is Jupyter\n",
      "Interactive module imported!\n",
      "Generating leading edge particles.\n",
      "Bonding ring particles.\n",
      "Calculating particle positions.\n",
      "Creating 726 particles.\n",
      "generating unit sphere coordinates takes: 0.0017282690000000045 seconds\n",
      "filtering takes: 0.009465298000000066 seconds\n",
      "scaling (and converting to list) takes: 0.009029949999999953 seconds\n",
      "filtering/scaling/converting all together take: 0.01849524800000002 seconds\n",
      "instantiating takes: 0.00945319500000008 seconds\n",
      "Leading edge is not equilibrated\n",
      "Bonding interior particles.\n",
      "Created 2243 bonds.\n",
      "setting up invoke: update_tangent_forces with args: {'magnitude': 5}\n",
      "setting up invoke: maintain_bonds with args: {'ptypes': [<tissue_forge.tissue_forge.ParticleType; proxy of <Swig Object of type 'std::list< TissueForge::ParticleType * >::value_type' at 0x112b4bd20> >, <tissue_forge.tissue_forge.ParticleType; proxy of <Swig Object of type 'std::list< TissueForge::ParticleType * >::value_type' at 0x112b8c240> >]}\n"
     ]
    },
    {
     "data": {
      "application/vnd.jupyter.widget-view+json": {
       "model_id": "5dbcf4241e2747359cde33cd83b79181",
       "version_major": 2,
       "version_minor": 0
      },
      "text/plain": [
       "VBox(children=(Image(value=b'\\xff\\xd8\\xff\\xe0\\x00\\x10JFIF\\x00\\x01\\x01\\x00\\x00\\x01\\x00\\x01\\x00\\x00\\xff\\xdb\\x00\\…"
      ]
     },
     "metadata": {},
     "output_type": "display_data"
    }
   ],
   "source": [
    "from main import *\n"
   ]
  },
  {
   "cell_type": "code",
   "execution_count": 2,
   "id": "ff6ac729",
   "metadata": {},
   "outputs": [
    {
     "name": "stdout",
     "output_type": "stream",
     "text": [
      "Num Little particles = 726\n",
      "Num LeadingEdge particles = 60\n"
     ]
    }
   ],
   "source": [
    "# particles created of each type\n",
    "print(\"Num Little particles =\", len(Little.items()))\n",
    "print(\"Num LeadingEdge particles =\", len(LeadingEdge.items()))\n"
   ]
  },
  {
   "cell_type": "code",
   "execution_count": 3,
   "id": "f353af96",
   "metadata": {},
   "outputs": [
    {
     "name": "stdout",
     "output_type": "stream",
     "text": [
      "{6: 603, 5: 119, 7: 7, 4: 54, 2: 1, 3: 2}\n"
     ]
    }
   ],
   "source": [
    "count_bonds()"
   ]
  },
  {
   "cell_type": "code",
   "execution_count": 4,
   "id": "bbc5fe45",
   "metadata": {},
   "outputs": [],
   "source": [
    "reset_camera()"
   ]
  },
  {
   "cell_type": "code",
   "execution_count": 5,
   "id": "ce9690d5",
   "metadata": {},
   "outputs": [],
   "source": [
    "# plots()"
   ]
  },
  {
   "cell_type": "code",
   "execution_count": 12,
   "id": "3ccf5955",
   "metadata": {},
   "outputs": [],
   "source": [
    "toggle_visibility()"
   ]
  },
  {
   "cell_type": "code",
   "execution_count": 10,
   "id": "c17f36eb",
   "metadata": {},
   "outputs": [],
   "source": [
    "# Careful! Best to run this only while paused, and then toggle it back again before\n",
    "# unpausing, or might affect the simulation\n",
    "toggle_radius()"
   ]
  },
  {
   "cell_type": "code",
   "execution_count": 8,
   "id": "d71f38d6",
   "metadata": {
    "scrolled": true
   },
   "outputs": [],
   "source": [
    "# To change the task list, uncomment and run. Tasks shown are examples.\n",
    "# This replaces the existing task list entirely,\n",
    "# rather than just adding to it. So an empty list disables all tasks. A subset of the current list\n",
    "# disables some tasks and leaves others in place. A superset adds tasks to the existing ones.\n",
    "# Tasks are executed each timestep, in the order given in the list.\n",
    "\n",
    "# dyn.execute_repeatedly(tasks=[\n",
    "#         {\"invoke\": mt.update_tangent_forces,\n",
    "#          \"args\": {\"magnitude\": 5}\n",
    "#          },\n",
    "#         {\"invoke\": bonds.maintain_bonds,\n",
    "#          \"args\": {\"ptypes\": [Little,\n",
    "#                              LeadingEdge,\n",
    "#                              ]\n",
    "#                   }\n",
    "#          },\n",
    "#         ])\n"
   ]
  },
  {
   "cell_type": "code",
   "execution_count": 9,
   "id": "e099c4da",
   "metadata": {},
   "outputs": [],
   "source": [
    "# tf.step()\n",
    "# while not is_equilibrated_0_05():\n",
    "#     # print(\"stepping!\")\n",
    "#     tf.step()\n"
   ]
  }
 ],
 "metadata": {
  "kernelspec": {
   "display_name": "Python 3 (ipykernel)",
   "language": "python",
   "name": "python3"
  },
  "language_info": {
   "codemirror_mode": {
    "name": "ipython",
    "version": 3
   },
   "file_extension": ".py",
   "mimetype": "text/x-python",
   "name": "python",
   "nbconvert_exporter": "python",
   "pygments_lexer": "ipython3",
   "version": "3.9.13"
  }
 },
 "nbformat": 4,
 "nbformat_minor": 5
}
